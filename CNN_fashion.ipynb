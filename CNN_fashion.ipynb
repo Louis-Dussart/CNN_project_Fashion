{
 "cells": [
  {
   "cell_type": "markdown",
   "metadata": {},
   "source": [
    "# Image classification Fashion store"
   ]
  },
  {
   "cell_type": "code",
   "execution_count": 198,
   "metadata": {},
   "outputs": [],
   "source": [
    "import torch\n",
    "import torch.nn as nn\n",
    "import torchvision.datasets as dsets\n",
    "from skimage import transform          #sikit_image: collection of algoritms for image preprocessing\n",
    "import torchvision.transforms as transforms\n",
    "from torch.autograd import Variable\n",
    "import pandas as pd\n",
    "import numpy as np\n",
    "from torch.utils.data import Dataset, DataLoader\n",
    "import random\n",
    "import math\n",
    "from matplotlib import pyplot as plt\n",
    "from tqdm import tqdm"
   ]
  },
  {
   "cell_type": "markdown",
   "metadata": {},
   "source": [
    "Loading data in Pytorch can be separated in 2 parts: \n",
    "\n",
    "• Data must be wrapped on a Dataset parent class where the methods __getitiem__ and __len__ must be overrided. At this stage, the data is not loaded on memory yet. \n",
    "\n",
    " \n",
    " \n",
    " \n",
    "\n",
    "\n",
    "• To actually load the data into memory, we need to use a dataloader - torch.utils.data.DataLoader."
   ]
  },
  {
   "cell_type": "code",
   "execution_count": 199,
   "metadata": {},
   "outputs": [],
   "source": [
    "j = pd.read_csv('fashion-mnist_train.csv')"
   ]
  },
  {
   "cell_type": "code",
   "execution_count": 235,
   "metadata": {},
   "outputs": [],
   "source": [
    "k = np.array(j.iloc[:,1:])"
   ]
  },
  {
   "cell_type": "code",
   "execution_count": 239,
   "metadata": {
    "scrolled": false
   },
   "outputs": [
    {
     "data": {
      "text/plain": [
       "(60000, 784)"
      ]
     },
     "execution_count": 239,
     "metadata": {},
     "output_type": "execute_result"
    }
   ],
   "source": [
    "k.shape"
   ]
  },
  {
   "cell_type": "code",
   "execution_count": 202,
   "metadata": {
    "collapsed": true
   },
   "outputs": [
    {
     "name": "stdout",
     "output_type": "stream",
     "text": [
      "[  0   0   0   0   0   0   0   0   0   0   0   0   0   0   0   0   0   0\n",
      "   0   0   0   0   0   0   0   0   0   0   0   0   0   0   0   0   0   0\n",
      "   0   0   0   0   0   0   0   0   0   0   0   0   0   0   0   0   0   0\n",
      "   0   0   0   0   0   0   0   0   0   0   0   0   0   0   0   0   0   0\n",
      "   0   0   0   0   0   0   0   0   0   0   0   0   0   0   0   0   0   0\n",
      "   0   0   0   0   0   0   0   0   0   0   0   0   0   0   0   0   0   0\n",
      "   0   0   0   0   0   0   0   0   0   0   0   0   0   0   0   0   0   0\n",
      "   0   0   0   0   0   0   0   0   0   0   0   0   0   0   0   0   0   0\n",
      "   0   0   0   0   0   0   0   0   1   1   0   0   0   0  81  21   0   1\n",
      "   0   1   0   0   0   0   0   0   0   0   0   0   0   0   0   0   0   1\n",
      "   0   0   0   0   0  14 200  49   0   0   0   0   0   0   0   0   0   0\n",
      "   0   0   0   0   0   0   2   1   1   1   0   1   0   0   0 162 184 165\n",
      "  20   0   1   1   3   4   1   0   0   0   0   0   0   0   0   0   0   0\n",
      "   0   1   2   0   2   0 120 183 154 206  32   0   5   5   0   0   0   0\n",
      "   0   0   0   0   0   0   0   0   0   0   0   2   0   3   0  76 227 151\n",
      " 139 158   0   0   0   0   0  66  23   0   0   0   0   0   0   0   0   0\n",
      "   1   0   1   0   0   0  55 224 162 143 121 204 236 144  21  74  90 190\n",
      "   8   0   0   0   0   0   0   0   0   0   0   1   0   0   0  42 228 160\n",
      " 148 125 165 223 208 221 246 211 174 151   0   0   0   0   0   1   3   0\n",
      "   1   0   3   0   9   0  23 230 168 147 119 163 227 206 200 190 206 186\n",
      " 139 171  41   0   0   0   0   0   0   0   0   0   3   4   0  16 209 185\n",
      " 139 118 181 227 209 204 210 199 225 157 127 190 111   0   1   3   2   1\n",
      "   3   2   3   0   0   0  67 214 187 139 111 191 229 203 208 208 196 223\n",
      " 188 100 128 155 112   0   0   0   0   0   0   0   0   0  48 161 218 171\n",
      " 147 116 185 235 201 209 203 204 220 208 126 133 162 164 187   0   0  12\n",
      "  16   9   4  19  73 170 211 188 145 149 148 136 222 218 207 208 215 224\n",
      " 193 140 146 162 156 118 203  37  47 255 188 187 182 203 206 182 147 140\n",
      " 148 148 148 134 180 218 221 225 204 156 134 139 144 140 123  97 206  30\n",
      "  88 203 164 167 170 161 147 147 156 159 153 152 155 150 134 136 153 145\n",
      " 136 151 164 168 170 166 153 130 200  10 131 195 150 133 132 142 160 166\n",
      " 162 153 152 153 151 154 163 147 152 163 205 208 174 175 178 181 168 150\n",
      " 196   1 155 228 197 172 138 123 121 122 126 129 135 139 144 158 177 192\n",
      " 239 244 178 176 183 179 185 177 147 148 192   0   0  80 196 199 212 209\n",
      " 190 176 170 178 183 192 204 204 202 144  59   3   0  67 217 184 188 178\n",
      " 166 160 188  13   0   0   0   3  51 105 179 217 235 227 208 201 133  58\n",
      "   0   0   0   0   0  16 187 194 184 185 175 181 131   0   0   3   0   0\n",
      "   0   0   0   0   0   0   0   0   0   0   0   5   5   5   0   0   0   0\n",
      "   0   0   0   0   0   0   0   0   0   0   0   0   0   0   0   0   0   0\n",
      "   0   0   0   0   0   0   0   0   0   0   0   0   0   0   0   0   0   0\n",
      "   0   0   0   0   0   0   0   0   0   0   0   0   0   0   0   0   0   0\n",
      "   0   0   0   0   0   0   0   0   0   0   0   0   0   0   0   0   0   0\n",
      "   0   0   0   0   0   0   0   0   0   0   0   0   0   0   0   0   0   0\n",
      "   0   0   0   0   0   0   0   0   0   0   0   0   0   0   0   0   0   0\n",
      "   0   0   0   0   0   0   0   0   0   0]\n"
     ]
    }
   ],
   "source": [
    "print(k[1])"
   ]
  },
  {
   "cell_type": "code",
   "execution_count": 203,
   "metadata": {},
   "outputs": [],
   "source": [
    "n = k.reshape(-1,1,28,28)"
   ]
  },
  {
   "cell_type": "code",
   "execution_count": 204,
   "metadata": {
    "scrolled": true
   },
   "outputs": [
    {
     "data": {
      "text/plain": [
       "(60000, 1, 28, 28)"
      ]
     },
     "execution_count": 204,
     "metadata": {},
     "output_type": "execute_result"
    }
   ],
   "source": [
    "n.shape"
   ]
  },
  {
   "cell_type": "code",
   "execution_count": 205,
   "metadata": {
    "collapsed": true
   },
   "outputs": [
    {
     "name": "stdout",
     "output_type": "stream",
     "text": [
      "[[[  0   0   0   0   0   0   0   0   0   0   0   0   0   0   0   0   0\n",
      "     0   0   0   0   0   0   0   0   0   0   0]\n",
      "  [  0   0   0   0   0   0   0   0   0   0   0   0   0   0   0   0   0\n",
      "     0   0   0   0   0   0   0   0   0   0   0]\n",
      "  [  0   0   0   0   0   0   0   0   0   0   0   0   0   0   0   0   0\n",
      "     0   0   0   0   0   0   0   0   0   0   0]\n",
      "  [  0   0   0   0   0   0   0   0   0   0   0   0   0   0   0   0   0\n",
      "     0   0   0   0   0   0   0   0   0   0   0]\n",
      "  [  0   0   0   0   0   0   0   0   0   0   0   0   0   0   0   0   0\n",
      "     0   0   0   0   0   0   0   0   0   0   0]\n",
      "  [  0   0   0   0   0   0   0   0   0   0   0   0   1   1   0   0   0\n",
      "     0  81  21   0   1   0   1   0   0   0   0]\n",
      "  [  0   0   0   0   0   0   0   0   0   0   0   1   0   0   0   0   0\n",
      "    14 200  49   0   0   0   0   0   0   0   0]\n",
      "  [  0   0   0   0   0   0   0   0   2   1   1   1   0   1   0   0   0\n",
      "   162 184 165  20   0   1   1   3   4   1   0]\n",
      "  [  0   0   0   0   0   0   0   0   0   0   0   1   2   0   2   0 120\n",
      "   183 154 206  32   0   5   5   0   0   0   0]\n",
      "  [  0   0   0   0   0   0   0   0   0   0   0   2   0   3   0  76 227\n",
      "   151 139 158   0   0   0   0   0  66  23   0]\n",
      "  [  0   0   0   0   0   0   0   0   1   0   1   0   0   0  55 224 162\n",
      "   143 121 204 236 144  21  74  90 190   8   0]\n",
      "  [  0   0   0   0   0   0   0   0   0   1   0   0   0  42 228 160 148\n",
      "   125 165 223 208 221 246 211 174 151   0   0]\n",
      "  [  0   0   0   1   3   0   1   0   3   0   9   0  23 230 168 147 119\n",
      "   163 227 206 200 190 206 186 139 171  41   0]\n",
      "  [  0   0   0   0   0   0   0   0   3   4   0  16 209 185 139 118 181\n",
      "   227 209 204 210 199 225 157 127 190 111   0]\n",
      "  [  1   3   2   1   3   2   3   0   0   0  67 214 187 139 111 191 229\n",
      "   203 208 208 196 223 188 100 128 155 112   0]\n",
      "  [  0   0   0   0   0   0   0   0  48 161 218 171 147 116 185 235 201\n",
      "   209 203 204 220 208 126 133 162 164 187   0]\n",
      "  [  0  12  16   9   4  19  73 170 211 188 145 149 148 136 222 218 207\n",
      "   208 215 224 193 140 146 162 156 118 203  37]\n",
      "  [ 47 255 188 187 182 203 206 182 147 140 148 148 148 134 180 218 221\n",
      "   225 204 156 134 139 144 140 123  97 206  30]\n",
      "  [ 88 203 164 167 170 161 147 147 156 159 153 152 155 150 134 136 153\n",
      "   145 136 151 164 168 170 166 153 130 200  10]\n",
      "  [131 195 150 133 132 142 160 166 162 153 152 153 151 154 163 147 152\n",
      "   163 205 208 174 175 178 181 168 150 196   1]\n",
      "  [155 228 197 172 138 123 121 122 126 129 135 139 144 158 177 192 239\n",
      "   244 178 176 183 179 185 177 147 148 192   0]\n",
      "  [  0  80 196 199 212 209 190 176 170 178 183 192 204 204 202 144  59\n",
      "     3   0  67 217 184 188 178 166 160 188  13]\n",
      "  [  0   0   0   3  51 105 179 217 235 227 208 201 133  58   0   0   0\n",
      "     0   0  16 187 194 184 185 175 181 131   0]\n",
      "  [  0   3   0   0   0   0   0   0   0   0   0   0   0   0   0   5   5\n",
      "     5   0   0   0   0   0   0   0   0   0   0]\n",
      "  [  0   0   0   0   0   0   0   0   0   0   0   0   0   0   0   0   0\n",
      "     0   0   0   0   0   0   0   0   0   0   0]\n",
      "  [  0   0   0   0   0   0   0   0   0   0   0   0   0   0   0   0   0\n",
      "     0   0   0   0   0   0   0   0   0   0   0]\n",
      "  [  0   0   0   0   0   0   0   0   0   0   0   0   0   0   0   0   0\n",
      "     0   0   0   0   0   0   0   0   0   0   0]\n",
      "  [  0   0   0   0   0   0   0   0   0   0   0   0   0   0   0   0   0\n",
      "     0   0   0   0   0   0   0   0   0   0   0]]]\n"
     ]
    }
   ],
   "source": [
    "print(n[1])"
   ]
  },
  {
   "cell_type": "code",
   "execution_count": 183,
   "metadata": {
    "collapsed": true
   },
   "outputs": [
    {
     "data": {
      "text/plain": [
       "(60000, 785)"
      ]
     },
     "execution_count": 183,
     "metadata": {},
     "output_type": "execute_result"
    }
   ],
   "source": [
    "j.shape"
   ]
  },
  {
   "cell_type": "code",
   "execution_count": 206,
   "metadata": {
    "collapsed": true
   },
   "outputs": [
    {
     "name": "stdout",
     "output_type": "stream",
     "text": [
      "[[0. 0. 0. 0. 0.]\n",
      " [0. 0. 0. 0. 0.]\n",
      " [0. 0. 0. 0. 0.]]\n"
     ]
    }
   ],
   "source": [
    "a = np.zeros([3,5])\n",
    "print(a)"
   ]
  },
  {
   "cell_type": "code",
   "execution_count": 207,
   "metadata": {},
   "outputs": [
    {
     "data": {
      "text/plain": [
       "(3, 5)"
      ]
     },
     "execution_count": 207,
     "metadata": {},
     "output_type": "execute_result"
    }
   ],
   "source": [
    "a.shape"
   ]
  },
  {
   "cell_type": "code",
   "execution_count": 225,
   "metadata": {},
   "outputs": [],
   "source": [
    "class FashionMNISTDataset(Dataset):    #Derived class\n",
    "    \n",
    "    def __init__(self, csv_file, transform=None):\n",
    "        \n",
    "        data = pd.read_csv(csv_file)\n",
    "        self.X = np.array(data.iloc[:,1:]).reshape(-1,1,28,28) \n",
    "        #we remove the first column, which is that of the outputs\n",
    "        #gives the size of the X\n",
    "        # -1 automatically computes the last dimension considering the rest\n",
    "        # when you reshape, we move from a (60 000, 784) to a (60 000, 1, 28, 28) which means\n",
    "        # that each image has the depth 1 and is of size 28x28\n",
    "        \n",
    "        self.Y = np.array(data.iloc[:,0])\n",
    "        \n",
    "        del data\n",
    "        self.transform = transform\n",
    "        \n",
    "    def __len__(self):\n",
    "        return len(self.X)\n",
    "    \n",
    "    def __getitem__(self,idx):\n",
    "        item = self.X[idx]\n",
    "        label = self.Y[idx]\n",
    "        \n",
    "        if self.transform:\n",
    "            item = self.transform(item)\n",
    "        \n",
    "        return (item,label)"
   ]
  },
  {
   "cell_type": "code",
   "execution_count": 226,
   "metadata": {},
   "outputs": [],
   "source": [
    "train_dataset = FashionMNISTDataset(csv_file='fashion-mnist_train.csv')\n",
    "test_dataset = FashionMNISTDataset(csv_file='fashion-mnist_test.csv')"
   ]
  },
  {
   "cell_type": "code",
   "execution_count": 227,
   "metadata": {},
   "outputs": [],
   "source": [
    "batch_size = 64"
   ]
  },
  {
   "cell_type": "code",
   "execution_count": 228,
   "metadata": {},
   "outputs": [],
   "source": [
    "train_loader = torch.utils.data.DataLoader(dataset = train_dataset, \n",
    "                                          batch_size = batch_size,\n",
    "                                          shuffle = True)\n",
    "\n",
    "test_loader = torch.utils.data.DataLoader(dataset = test_dataset, \n",
    "                                          batch_size = batch_size,\n",
    "                                          shuffle = True)"
   ]
  },
  {
   "cell_type": "code",
   "execution_count": 57,
   "metadata": {},
   "outputs": [],
   "source": [
    "labels_map = {0: 'T-Shirt', 1: 'Trouser', 2: 'Pullover', 3: 'Dress', 4: 'Coat', 5 : 'Sandal', \n",
    "              6:'Shirt', 7: 'Sneaker', 8: 'Bag', 9:'Ankle Boot'}"
   ]
  },
  {
   "cell_type": "code",
   "execution_count": 72,
   "metadata": {},
   "outputs": [
    {
     "data": {
      "text/plain": [
       "<matplotlib.image.AxesImage at 0x144d2af60>"
      ]
     },
     "execution_count": 72,
     "metadata": {},
     "output_type": "execute_result"
    },
    {
     "data": {
      "image/png": "[encoded data removed]",
      "text/plain": [
       "<Figure size 432x288 with 1 Axes>"
      ]
     },
     "metadata": {},
     "output_type": "display_data"
    }
   ],
   "source": [
    "plt.imshow(train_dataset[2][0][0,:,:])#["
   ]
  },
  {
   "cell_type": "code",
   "execution_count": 59,
   "metadata": {
    "scrolled": false
   },
   "outputs": [
    {
     "data": {
      "image/png": "[encoded data removed]",
      "text/plain": [
       "<Figure size 576x576 with 20 Axes>"
      ]
     },
     "metadata": {},
     "output_type": "display_data"
    }
   ],
   "source": [
    "columns = 4\n",
    "rows = 5\n",
    "\n",
    "fig = plt.figure(figsize=(8,8))\n",
    "\n",
    "for i in range(1, columns*rows + 1):\n",
    "    img_xy = np.random.randint(len(train_dataset));\n",
    "    img = train_dataset[img_xy][0][0,:,:]\n",
    "    fig.add_subplot(rows, columns, i)\n",
    "    plt.title(labels_map[train_dataset[img_xy][1]])\n",
    "    plt.axis('off')\n",
    "    plt.imshow(img, cmap='gray')\n",
    "plt.show() "
   ]
  },
  {
   "cell_type": "code",
   "execution_count": 86,
   "metadata": {},
   "outputs": [],
   "source": [
    "class CNN(nn.Module):\n",
    "    def __init__(self):\n",
    "        super(CNN, self).__init__()\n",
    "        self.layer1 = nn.Sequential(\n",
    "            nn.Conv2d(1, 16, kernel_size=5, padding=2),\n",
    "            nn.BatchNorm2d(16),\n",
    "            nn.ReLU(),\n",
    "            nn.MaxPool2d(2))\n",
    "        self.layer2 = nn.Sequential(\n",
    "            nn.Conv2d(16, 32, kernel_size=5, padding=2),\n",
    "            nn.BatchNorm2d(32),\n",
    "            nn.ReLU(),\n",
    "            nn.MaxPool2d(2))\n",
    "        self.fc = nn.Linear(7*7*32, 10)\n",
    "        \n",
    "    def forward(self, x):\n",
    "        out = self.layer1(x)\n",
    "        out = self.layer2(out)\n",
    "        out = out.view(out.size(0), -1)\n",
    "        out = self.fc(out)\n",
    "        return out"
   ]
  },
  {
   "cell_type": "code",
   "execution_count": 229,
   "metadata": {},
   "outputs": [],
   "source": [
    "def train(model, loss_fn, num_epochs, optimizer, data):\n",
    "    \n",
    "    #some layers, like BatchNorm, have different behavior during train and test sessions so\n",
    "    #it is important to explicitly state if the model is train or eval\n",
    "    model.train(True)\n",
    "    \n",
    "    running_loss = 0\n",
    "    running_corrects = 0\n",
    "    size = 0\n",
    "    \n",
    "    for epoch in range(num_epochs):\n",
    "        for i, (images, labels) in tqdm(enumerate(data)):\n",
    "            images = Variable(images.float())\n",
    "            labels = Variable(labels)\n",
    "            \n",
    "            optimizer.zero_grad()\n",
    "            outputs = model(images)\n",
    "            loss = loss_fun(outputs, labels)\n",
    "            running_loss += loss\n",
    "            loss.backward()\n",
    "            optimizer.step()\n",
    "            \n",
    "            _, pred = torch.max(outputs, 1)\n",
    "            running_corrects += torch.sum(pred == labels)\n",
    "            \n",
    "            size += batch_size\n",
    "        \n",
    "        epoch_loss = running_loss.item()/size\n",
    "        epoch_accuracy = running_corrects.item() / size\n",
    "        \n",
    "        # %.4f means that you print the 4 decimals of a float\n",
    "        # %d/%d is an interger\n",
    "        # %s is a string\n",
    "        print('Epoch: %d/%d, Iter: %d/%d, Loss: %.4f, Accuracy: %.4f'\n",
    "              % (epoch+1, num_epochs, i+1, len(train_dataset)//batch_size, epoch_loss, epoch_accuracy))"
   ]
  },
  {
   "cell_type": "code",
   "execution_count": 230,
   "metadata": {},
   "outputs": [],
   "source": [
    "cnn = CNN()\n",
    "learning_rate = 0.001\n",
    "num_epochs = 2\n",
    "batch_size = 100\n",
    "loss_fn = nn.CrossEntropyLoss()\n",
    "optimizer = torch.optim.Adam(cnn.parameters(), lr = learning_rate)"
   ]
  },
  {
   "cell_type": "code",
   "execution_count": 231,
   "metadata": {
    "scrolled": true
   },
   "outputs": [
    {
     "name": "stderr",
     "output_type": "stream",
     "text": [
      "938it [01:42,  9.11it/s]\n",
      "1it [00:00,  6.83it/s]"
     ]
    },
    {
     "name": "stdout",
     "output_type": "stream",
     "text": [
      "Epoch: 1/2, Iter: 938/600, Loss: 0.0040, Accuracy: 0.5479\n"
     ]
    },
    {
     "name": "stderr",
     "output_type": "stream",
     "text": [
      "938it [01:43,  9.08it/s]"
     ]
    },
    {
     "name": "stdout",
     "output_type": "stream",
     "text": [
      "Epoch: 2/2, Iter: 938/600, Loss: 0.0034, Accuracy: 0.5613\n"
     ]
    },
    {
     "name": "stderr",
     "output_type": "stream",
     "text": [
      "\n"
     ]
    }
   ],
   "source": [
    "train(model = cnn,\n",
    "     num_epochs = num_epochs,\n",
    "     loss_fn = loss_fn,\n",
    "     optimizer = optimizer, \n",
    "     data = train_loader)"
   ]
  },
  {
   "cell_type": "code",
   "execution_count": 232,
   "metadata": {},
   "outputs": [],
   "source": [
    "def test(model, data):\n",
    "    #Evaluation of the model\n",
    "    model.eval()\n",
    "    correct = 0\n",
    "    total = 0\n",
    "    for images, labels in data:\n",
    "        images = Variable(images.float())\n",
    "        outputs = cnn(images)\n",
    "        _, predicted = torch.max(outputs.data, 1)       \n",
    "\n",
    "        #torch.max gives the vector with the maximum values of each row of the tensor\n",
    "        #_, before the predicted gives the index of this maximum in the row\n",
    "        #we consider that the labels are a repartition of weigths given to each index\n",
    "\n",
    "        total += labels.size(0)\n",
    "        correct += (predicted == labels).sum()\n",
    "    print('Test Accuracy of the model on the 10000 test images: %.4f %%' % (100 * correct / total))"
   ]
  },
  {
   "cell_type": "code",
   "execution_count": 233,
   "metadata": {},
   "outputs": [
    {
     "name": "stdout",
     "output_type": "stream",
     "text": [
      "Test Accuracy of the model on the 10000 test images: 88.0000 %\n"
     ]
    }
   ],
   "source": [
    "test(cnn, test_loader)"
   ]
  }
 ],
 "metadata": {
  "kernelspec": {
   "display_name": "Python 3",
   "language": "python",
   "name": "python3"
  },
  "language_info": {
   "codemirror_mode": {
    "name": "ipython",
    "version": 3
   },
   "file_extension": ".py",
   "mimetype": "text/x-python",
   "name": "python",
   "nbconvert_exporter": "python",
   "pygments_lexer": "ipython3",
   "version": "3.6.4"
  }
 },
 "nbformat": 4,
 "nbformat_minor": 2
}
